{
 "cells": [
  {
   "cell_type": "code",
   "execution_count": 1,
   "metadata": {},
   "outputs": [
    {
     "data": {
      "text/plain": [
       "{'model_S3_bucket': InputSpec(type='String', default=None),\n",
       " 'config': InputSpec(type='Artifact', default=None),\n",
       " 'dataset': InputSpec(type='Dataset', default=None)}"
      ]
     },
     "execution_count": 1,
     "metadata": {},
     "output_type": "execute_result"
    }
   ],
   "source": [
    "import kfp\n",
    "from kfp.components import load_component_from_file\n",
    "train = load_component_from_file(\"components/train/component_SDKv2.yaml\")\n",
    "train.component_spec.inputs"
   ]
  },
  {
   "cell_type": "code",
   "execution_count": 3,
   "metadata": {},
   "outputs": [
    {
     "name": "stderr",
     "output_type": "stream",
     "text": [
      "/tmp/ipykernel_6256/2533466638.py:18: DeprecationWarning: output_component_file parameter is deprecated and will eventually be removed. Please use `Compiler().compile()` to compile a component instead.\n",
      "  @component(\n",
      "/tmp/ipykernel_6256/2533466638.py:21: DeprecationWarning: output_component_file parameter is deprecated and will eventually be removed. Please use `Compiler().compile()` to compile a component instead.\n",
      "  def generate_my_Artifacts(\n"
     ]
    }
   ],
   "source": [
    "import kfp\n",
    "from kfp.v2.dsl import component, Input, Output, Artifact\n",
    "from typing import Optional, Dict\n",
    "\n",
    "class Defined_Artifact(Artifact):\n",
    "    schema_title = \"ftech.Defined_Artifact\"\n",
    "    schema_version = \"0.0.2\"\n",
    "    def __init__(\n",
    "        self,\n",
    "        name: Optional[str] = None,\n",
    "        uri: Optional[str] = None,\n",
    "        metadata: Optional[Dict] = None\n",
    "    ) -> None:\n",
    "    \n",
    "        self.super().__init__(name, uri, metadata)\n",
    "        self.schema_title = \"ftech.Defined_Artifact\"\n",
    "        self.schema_version = \"0.0.2\"\n",
    "\n",
    "@component(\n",
    "    output_component_file=\"compv2.yaml\"\n",
    ")\n",
    "def generate_my_Artifacts(\n",
    "    outp: Output[Defined_Artifact]\n",
    "):\n",
    "    pass\n",
    "\n"
   ]
  },
  {
   "cell_type": "code",
   "execution_count": 23,
   "metadata": {},
   "outputs": [],
   "source": [
    "import kfp\n",
    "from kfp.v2.dsl import component, Output, Input, Artifact\n",
    "from ml_metadata.proto.metadata_store_pb2 import ArtifactType\n",
    "\n",
    "@component(\n",
    "    output_component_file=\"c.yaml\"\n",
    ")\n",
    "def _register_at(\n",
    ") -> ArtifactType:\n",
    "    \n",
    "    from ml_metadata.proto.metadata_store_pb2 import ArtifactType\n",
    "    from ml_metadata.proto import metadata_store_pb2\n",
    "    data_type = ArtifactType\n",
    "    data_type.name = \"DataSet\"\n",
    "    data_type.properties[\"description\"] = metadata_store_pb2.STRING\n",
    "    data_type.properties[\"day\"] = metadata_store_pb2.INT\n",
    "    data_type.properties[\"split\"] = metadata_store_pb2.STRING\n",
    "    return data_type\n",
    "\n",
    "@component(\n",
    "    output_component_file=\"c2.yaml\"\n",
    ")\n",
    "def _save_a(\n",
    "    custom_artifacts_name: str\n",
    ") -> ArtifactType:\n",
    "    \n",
    "    from ml_metadata.proto.metadata_store_pb2 import ArtifactType\n",
    "    from ml_metadata.proto import metadata_store_pb2\n",
    "    data_type = ArtifactType\n",
    "    data_type.name = \"DataSet\"\n",
    "    data_type.properties[\"description\"] = metadata_store_pb2.STRING\n",
    "    data_type.properties[\"day\"] = metadata_store_pb2.INT\n",
    "    data_type.properties[\"split\"] = metadata_store_pb2.STRING\n",
    "    return data_type"
   ]
  },
  {
   "cell_type": "code",
   "execution_count": null,
   "metadata": {},
   "outputs": [],
   "source": []
  },
  {
   "cell_type": "code",
   "execution_count": 2,
   "metadata": {},
   "outputs": [],
   "source": [
    "from ml_metadata.proto import metadata_store_pb2\n",
    "from kfp.v2.dsl import component\n",
    "\n",
    "@component(\n",
    "    output_component_file=\"MLMD_comp.yaml\"\n",
    ")\n",
    "def MLMLD_comp(\n",
    "    inputt: metadata_store_pb2.Context\n",
    "):\n",
    "    pass"
   ]
  },
  {
   "cell_type": "code",
   "execution_count": 3,
   "metadata": {},
   "outputs": [],
   "source": [
    "import ml_metadata as mlmd\n",
    "from ml_metadata.metadata_store import metadata_store\n",
    "from ml_metadata.proto import metadata_store_pb2\n",
    "\n",
    "connection_config = metadata_store_pb2.ConnectionConfig()\n",
    "connection_config.fake_database.SetInParent() # Sets an empty fake database proto.\n",
    "store = metadata_store.MetadataStore(connection_config)"
   ]
  },
  {
   "cell_type": "code",
   "execution_count": 4,
   "metadata": {},
   "outputs": [],
   "source": [
    "# Create ArtifactTypes, e.g., Data and Model\n",
    "data_type = metadata_store_pb2.ArtifactType()\n",
    "data_type.name = \"DataSet\"\n",
    "data_type.properties[\"day\"] = metadata_store_pb2.INT\n",
    "data_type.properties[\"split\"] = metadata_store_pb2.STRING\n",
    "data_type_id = store.put_artifact_type(data_type)\n",
    "\n",
    "model_type = metadata_store_pb2.ArtifactType()\n",
    "model_type.name = \"SavedModel\"\n",
    "model_type.properties[\"version\"] = metadata_store_pb2.INT\n",
    "model_type.properties[\"name\"] = metadata_store_pb2.STRING\n",
    "model_type_id = store.put_artifact_type(model_type)\n",
    "\n",
    "# Query all registered Artifact types.\n",
    "artifact_types = store.get_artifact_types()"
   ]
  },
  {
   "cell_type": "code",
   "execution_count": 19,
   "metadata": {},
   "outputs": [
    {
     "data": {
      "text/plain": [
       "[id: 10\n",
       " name: \"DataSet\"\n",
       " properties {\n",
       "   key: \"day\"\n",
       "   value: INT\n",
       " }\n",
       " properties {\n",
       "   key: \"split\"\n",
       "   value: STRING\n",
       " },\n",
       " id: 11\n",
       " name: \"SavedModel\"\n",
       " properties {\n",
       "   key: \"name\"\n",
       "   value: STRING\n",
       " }\n",
       " properties {\n",
       "   key: \"version\"\n",
       "   value: INT\n",
       " }]"
      ]
     },
     "execution_count": 19,
     "metadata": {},
     "output_type": "execute_result"
    }
   ],
   "source": [
    "artifact_types"
   ]
  },
  {
   "cell_type": "code",
   "execution_count": 17,
   "metadata": {},
   "outputs": [
    {
     "data": {
      "text/plain": [
       "10"
      ]
     },
     "execution_count": 17,
     "metadata": {},
     "output_type": "execute_result"
    }
   ],
   "source": [
    "data_type2 = metadata_store_pb2.ArtifactType()\n",
    "data_type2.name = \"DataSet\"\n",
    "data_type2.properties[\"day\"] = metadata_store_pb2.INT\n",
    "data_type2.properties[\"split\"] = metadata_store_pb2.STRING\n",
    "data_type_id2 = store.put_artifact_type(data_type2)\n",
    "data_type_id2"
   ]
  },
  {
   "cell_type": "code",
   "execution_count": 18,
   "metadata": {},
   "outputs": [
    {
     "data": {
      "text/plain": [
       "10"
      ]
     },
     "execution_count": 18,
     "metadata": {},
     "output_type": "execute_result"
    }
   ],
   "source": [
    "data_type_id"
   ]
  }
 ],
 "metadata": {
  "kernelspec": {
   "display_name": "Python 3.9.12 ('kws-dev-env')",
   "language": "python",
   "name": "python3"
  },
  "language_info": {
   "codemirror_mode": {
    "name": "ipython",
    "version": 3
   },
   "file_extension": ".py",
   "mimetype": "text/x-python",
   "name": "python",
   "nbconvert_exporter": "python",
   "pygments_lexer": "ipython3",
   "version": "3.9.12"
  },
  "orig_nbformat": 4,
  "vscode": {
   "interpreter": {
    "hash": "7a192e72af163c78e5ecb2f39af3cac0b99b94b35df0ed122b563314cb768475"
   }
  }
 },
 "nbformat": 4,
 "nbformat_minor": 2
}
