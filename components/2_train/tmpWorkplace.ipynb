{
 "cells": [
  {
   "cell_type": "code",
   "execution_count": 1,
   "metadata": {},
   "outputs": [
    {
     "name": "stdout",
     "output_type": "stream",
     "text": [
      "Requirement already satisfied: mlflow in /home/lebugcat/miniconda3/envs/kws-dev-env/lib/python3.9/site-packages (1.28.0)\n",
      "Requirement already satisfied: protobuf<5,>=3.12.0 in /home/lebugcat/miniconda3/envs/kws-dev-env/lib/python3.9/site-packages (from mlflow) (3.19.4)\n",
      "Requirement already satisfied: entrypoints<1 in /home/lebugcat/miniconda3/envs/kws-dev-env/lib/python3.9/site-packages (from mlflow) (0.4)\n",
      "Requirement already satisfied: alembic<2 in /home/lebugcat/miniconda3/envs/kws-dev-env/lib/python3.9/site-packages (from mlflow) (1.8.1)\n",
      "Requirement already satisfied: click<9,>=7.0 in /home/lebugcat/miniconda3/envs/kws-dev-env/lib/python3.9/site-packages (from mlflow) (8.1.3)\n",
      "Requirement already satisfied: sqlalchemy<2,>=1.4.0 in /home/lebugcat/miniconda3/envs/kws-dev-env/lib/python3.9/site-packages (from mlflow) (1.4.41)\n",
      "Requirement already satisfied: pyyaml<7,>=5.1 in /home/lebugcat/miniconda3/envs/kws-dev-env/lib/python3.9/site-packages (from mlflow) (5.4.1)\n",
      "Requirement already satisfied: docker<6,>=4.0.0 in /home/lebugcat/miniconda3/envs/kws-dev-env/lib/python3.9/site-packages (from mlflow) (5.0.3)\n",
      "Requirement already satisfied: scipy<2 in /home/lebugcat/miniconda3/envs/kws-dev-env/lib/python3.9/site-packages (from mlflow) (1.8.1)\n",
      "Requirement already satisfied: requests<3,>=2.17.3 in /home/lebugcat/miniconda3/envs/kws-dev-env/lib/python3.9/site-packages (from mlflow) (2.28.1)\n",
      "Requirement already satisfied: cloudpickle<3 in /home/lebugcat/miniconda3/envs/kws-dev-env/lib/python3.9/site-packages (from mlflow) (2.1.0)\n",
      "Requirement already satisfied: Flask<3 in /home/lebugcat/miniconda3/envs/kws-dev-env/lib/python3.9/site-packages (from mlflow) (2.2.2)\n",
      "Requirement already satisfied: prometheus-flask-exporter<1 in /home/lebugcat/miniconda3/envs/kws-dev-env/lib/python3.9/site-packages (from mlflow) (0.20.3)\n",
      "Requirement already satisfied: querystring-parser<2 in /home/lebugcat/miniconda3/envs/kws-dev-env/lib/python3.9/site-packages (from mlflow) (1.2.4)\n",
      "Requirement already satisfied: databricks-cli<1,>=0.8.7 in /home/lebugcat/miniconda3/envs/kws-dev-env/lib/python3.9/site-packages (from mlflow) (0.17.3)\n",
      "Requirement already satisfied: pytz<2023 in /home/lebugcat/miniconda3/envs/kws-dev-env/lib/python3.9/site-packages (from mlflow) (2022.2.1)\n",
      "Requirement already satisfied: pandas<2 in /home/lebugcat/miniconda3/envs/kws-dev-env/lib/python3.9/site-packages (from mlflow) (1.4.4)\n",
      "Requirement already satisfied: gunicorn<21 in /home/lebugcat/miniconda3/envs/kws-dev-env/lib/python3.9/site-packages (from mlflow) (20.1.0)\n",
      "Requirement already satisfied: importlib-metadata!=4.7.0,<5,>=3.7.0 in /home/lebugcat/miniconda3/envs/kws-dev-env/lib/python3.9/site-packages (from mlflow) (4.12.0)\n",
      "Requirement already satisfied: gitpython<4,>=2.1.0 in /home/lebugcat/miniconda3/envs/kws-dev-env/lib/python3.9/site-packages (from mlflow) (3.1.27)\n",
      "Requirement already satisfied: packaging<22 in /home/lebugcat/miniconda3/envs/kws-dev-env/lib/python3.9/site-packages (from mlflow) (21.3)\n",
      "Requirement already satisfied: sqlparse<1,>=0.4.0 in /home/lebugcat/miniconda3/envs/kws-dev-env/lib/python3.9/site-packages (from mlflow) (0.4.2)\n",
      "Requirement already satisfied: numpy<2 in /home/lebugcat/miniconda3/envs/kws-dev-env/lib/python3.9/site-packages (from mlflow) (1.19.5)\n",
      "Requirement already satisfied: Mako in /home/lebugcat/miniconda3/envs/kws-dev-env/lib/python3.9/site-packages (from alembic<2->mlflow) (1.2.2)\n",
      "Requirement already satisfied: six>=1.10.0 in /home/lebugcat/miniconda3/envs/kws-dev-env/lib/python3.9/site-packages (from databricks-cli<1,>=0.8.7->mlflow) (1.16.0)\n",
      "Requirement already satisfied: pyjwt>=1.7.0 in /home/lebugcat/miniconda3/envs/kws-dev-env/lib/python3.9/site-packages (from databricks-cli<1,>=0.8.7->mlflow) (2.4.0)\n",
      "Requirement already satisfied: tabulate>=0.7.7 in /home/lebugcat/miniconda3/envs/kws-dev-env/lib/python3.9/site-packages (from databricks-cli<1,>=0.8.7->mlflow) (0.8.10)\n",
      "Requirement already satisfied: oauthlib>=3.1.0 in /home/lebugcat/miniconda3/envs/kws-dev-env/lib/python3.9/site-packages (from databricks-cli<1,>=0.8.7->mlflow) (3.2.0)\n",
      "Requirement already satisfied: websocket-client>=0.32.0 in /home/lebugcat/miniconda3/envs/kws-dev-env/lib/python3.9/site-packages (from docker<6,>=4.0.0->mlflow) (1.3.3)\n",
      "Requirement already satisfied: Werkzeug>=2.2.2 in /home/lebugcat/miniconda3/envs/kws-dev-env/lib/python3.9/site-packages (from Flask<3->mlflow) (2.2.2)\n",
      "Requirement already satisfied: Jinja2>=3.0 in /home/lebugcat/miniconda3/envs/kws-dev-env/lib/python3.9/site-packages (from Flask<3->mlflow) (3.1.2)\n",
      "Requirement already satisfied: itsdangerous>=2.0 in /home/lebugcat/miniconda3/envs/kws-dev-env/lib/python3.9/site-packages (from Flask<3->mlflow) (2.1.2)\n",
      "Requirement already satisfied: gitdb<5,>=4.0.1 in /home/lebugcat/miniconda3/envs/kws-dev-env/lib/python3.9/site-packages (from gitpython<4,>=2.1.0->mlflow) (4.0.9)\n",
      "Requirement already satisfied: setuptools>=3.0 in /home/lebugcat/miniconda3/envs/kws-dev-env/lib/python3.9/site-packages (from gunicorn<21->mlflow) (61.2.0)\n",
      "Requirement already satisfied: zipp>=0.5 in /home/lebugcat/miniconda3/envs/kws-dev-env/lib/python3.9/site-packages (from importlib-metadata!=4.7.0,<5,>=3.7.0->mlflow) (3.8.1)\n",
      "Requirement already satisfied: pyparsing!=3.0.5,>=2.0.2 in /home/lebugcat/miniconda3/envs/kws-dev-env/lib/python3.9/site-packages (from packaging<22->mlflow) (3.0.9)\n",
      "Requirement already satisfied: python-dateutil>=2.8.1 in /home/lebugcat/miniconda3/envs/kws-dev-env/lib/python3.9/site-packages (from pandas<2->mlflow) (2.8.2)\n",
      "Requirement already satisfied: prometheus-client in /home/lebugcat/miniconda3/envs/kws-dev-env/lib/python3.9/site-packages (from prometheus-flask-exporter<1->mlflow) (0.14.1)\n",
      "Requirement already satisfied: idna<4,>=2.5 in /home/lebugcat/miniconda3/envs/kws-dev-env/lib/python3.9/site-packages (from requests<3,>=2.17.3->mlflow) (3.2)\n",
      "Requirement already satisfied: charset-normalizer<3,>=2 in /home/lebugcat/miniconda3/envs/kws-dev-env/lib/python3.9/site-packages (from requests<3,>=2.17.3->mlflow) (2.1.0)\n",
      "Requirement already satisfied: certifi>=2017.4.17 in /home/lebugcat/miniconda3/envs/kws-dev-env/lib/python3.9/site-packages (from requests<3,>=2.17.3->mlflow) (2021.5.30)\n",
      "Requirement already satisfied: urllib3<1.27,>=1.21.1 in /home/lebugcat/miniconda3/envs/kws-dev-env/lib/python3.9/site-packages (from requests<3,>=2.17.3->mlflow) (1.26.11)\n",
      "Requirement already satisfied: greenlet!=0.4.17 in /home/lebugcat/miniconda3/envs/kws-dev-env/lib/python3.9/site-packages (from sqlalchemy<2,>=1.4.0->mlflow) (1.1.3)\n",
      "Requirement already satisfied: smmap<6,>=3.0.1 in /home/lebugcat/miniconda3/envs/kws-dev-env/lib/python3.9/site-packages (from gitdb<5,>=4.0.1->gitpython<4,>=2.1.0->mlflow) (5.0.0)\n",
      "Requirement already satisfied: MarkupSafe>=2.0 in /home/lebugcat/miniconda3/envs/kws-dev-env/lib/python3.9/site-packages (from Jinja2>=3.0->Flask<3->mlflow) (2.1.1)\n",
      "Note: you may need to restart the kernel to use updated packages.\n"
     ]
    }
   ],
   "source": [
    "pip install mlflow"
   ]
  },
  {
   "cell_type": "code",
   "execution_count": 3,
   "metadata": {},
   "outputs": [],
   "source": [
    "import mlflow\n",
    "\n",
    "mlflow.set_tracking_uri(\"http://192.168.1.22:5000\")"
   ]
  },
  {
   "cell_type": "code",
   "execution_count": 10,
   "metadata": {},
   "outputs": [
    {
     "name": "stderr",
     "output_type": "stream",
     "text": [
      "2022/09/19 16:58:01 INFO mlflow.tensorflow: Validating the specified TensorFlow model by attempting to load it in a new TensorFlow graph...\n"
     ]
    },
    {
     "ename": "OSError",
     "evalue": "SavedModel file does not exist at: /home/lebugcat/Desktop/FTech/Projects/KWS-ContinuousTraining/components/2_train/train_res/ds_tc_resnet/non-stream/{saved_model.pbtxt|saved_model.pb}",
     "output_type": "error",
     "traceback": [
      "\u001b[0;31m---------------------------------------------------------------------------\u001b[0m",
      "\u001b[0;31mOSError\u001b[0m                                   Traceback (most recent call last)",
      "\u001b[1;32m/home/lebugcat/Desktop/FTech/Projects/KWS-ContinuousTraining/components/2_train/tmpWorkplace.ipynb Cell 3\u001b[0m in \u001b[0;36m<cell line: 1>\u001b[0;34m()\u001b[0m\n\u001b[0;32m----> <a href='vscode-notebook-cell:/home/lebugcat/Desktop/FTech/Projects/KWS-ContinuousTraining/components/2_train/tmpWorkplace.ipynb#W1sZmlsZQ%3D%3D?line=0'>1</a>\u001b[0m mlflow\u001b[39m.\u001b[39;49mtensorflow\u001b[39m.\u001b[39;49mlog_model(\n\u001b[1;32m      <a href='vscode-notebook-cell:/home/lebugcat/Desktop/FTech/Projects/KWS-ContinuousTraining/components/2_train/tmpWorkplace.ipynb#W1sZmlsZQ%3D%3D?line=1'>2</a>\u001b[0m         tf_saved_model_dir \u001b[39m=\u001b[39;49m \u001b[39m\"\u001b[39;49m\u001b[39m/home/lebugcat/Desktop/FTech/Projects/KWS-ContinuousTraining/components/2_train/train_res/ds_tc_resnet/non-stream\u001b[39;49m\u001b[39m\"\u001b[39;49m,\n\u001b[1;32m      <a href='vscode-notebook-cell:/home/lebugcat/Desktop/FTech/Projects/KWS-ContinuousTraining/components/2_train/tmpWorkplace.ipynb#W1sZmlsZQ%3D%3D?line=2'>3</a>\u001b[0m         tf_meta_graph_tags \u001b[39m=\u001b[39;49m \u001b[39m\"\u001b[39;49m\u001b[39mBlank\u001b[39;49m\u001b[39m\"\u001b[39;49m,\n\u001b[1;32m      <a href='vscode-notebook-cell:/home/lebugcat/Desktop/FTech/Projects/KWS-ContinuousTraining/components/2_train/tmpWorkplace.ipynb#W1sZmlsZQ%3D%3D?line=3'>4</a>\u001b[0m         tf_signature_def_key \u001b[39m=\u001b[39;49m \u001b[39m\"\u001b[39;49m\u001b[39mNone\u001b[39;49m\u001b[39m\"\u001b[39;49m,\n\u001b[1;32m      <a href='vscode-notebook-cell:/home/lebugcat/Desktop/FTech/Projects/KWS-ContinuousTraining/components/2_train/tmpWorkplace.ipynb#W1sZmlsZQ%3D%3D?line=4'>5</a>\u001b[0m         artifact_path \u001b[39m=\u001b[39;49m \u001b[39m\"\u001b[39;49m\u001b[39mmodels/testmodel\u001b[39;49m\u001b[39m\"\u001b[39;49m)\n",
      "File \u001b[0;32m~/miniconda3/envs/kws-dev-env/lib/python3.9/site-packages/mlflow/utils/annotations.py:74\u001b[0m, in \u001b[0;36mkeyword_only.<locals>.wrapper\u001b[0;34m(*args, **kwargs)\u001b[0m\n\u001b[1;32m     72\u001b[0m \u001b[39mif\u001b[39;00m \u001b[39mlen\u001b[39m(args) \u001b[39m>\u001b[39m \u001b[39m0\u001b[39m:\n\u001b[1;32m     73\u001b[0m     \u001b[39mraise\u001b[39;00m \u001b[39mTypeError\u001b[39;00m(\u001b[39m\"\u001b[39m\u001b[39mMethod \u001b[39m\u001b[39m%s\u001b[39;00m\u001b[39m only takes keyword arguments.\u001b[39m\u001b[39m\"\u001b[39m \u001b[39m%\u001b[39m func\u001b[39m.\u001b[39m\u001b[39m__name__\u001b[39m)\n\u001b[0;32m---> 74\u001b[0m \u001b[39mreturn\u001b[39;00m func(\u001b[39m*\u001b[39;49m\u001b[39m*\u001b[39;49mkwargs)\n",
      "File \u001b[0;32m~/miniconda3/envs/kws-dev-env/lib/python3.9/site-packages/mlflow/tensorflow/__init__.py:209\u001b[0m, in \u001b[0;36mlog_model\u001b[0;34m(tf_saved_model_dir, tf_meta_graph_tags, tf_signature_def_key, artifact_path, conda_env, code_paths, signature, input_example, registered_model_name, await_registration_for, pip_requirements, extra_pip_requirements)\u001b[0m\n\u001b[1;32m    197\u001b[0m \u001b[39mif\u001b[39;00m signature \u001b[39mis\u001b[39;00m \u001b[39mnot\u001b[39;00m \u001b[39mNone\u001b[39;00m:\n\u001b[1;32m    198\u001b[0m     warnings\u001b[39m.\u001b[39mwarn(\n\u001b[1;32m    199\u001b[0m         \u001b[39m\"\u001b[39m\u001b[39mThe pyfunc inference behavior of TensorFlow models logged \u001b[39m\u001b[39m\"\u001b[39m\n\u001b[1;32m    200\u001b[0m         \u001b[39m\"\u001b[39m\u001b[39mwith signatures differs from the behavior of TensorFlow \u001b[39m\u001b[39m\"\u001b[39m\n\u001b[0;32m   (...)\u001b[0m\n\u001b[1;32m    207\u001b[0m         \u001b[39m\"\u001b[39m\u001b[39ma Pandas DataFrame output in response to a Pandas DataFrame input.\u001b[39m\u001b[39m\"\u001b[39m\n\u001b[1;32m    208\u001b[0m     )\n\u001b[0;32m--> 209\u001b[0m \u001b[39mreturn\u001b[39;00m Model\u001b[39m.\u001b[39;49mlog(\n\u001b[1;32m    210\u001b[0m     artifact_path\u001b[39m=\u001b[39;49martifact_path,\n\u001b[1;32m    211\u001b[0m     flavor\u001b[39m=\u001b[39;49mmlflow\u001b[39m.\u001b[39;49mtensorflow,\n\u001b[1;32m    212\u001b[0m     tf_saved_model_dir\u001b[39m=\u001b[39;49mtf_saved_model_dir,\n\u001b[1;32m    213\u001b[0m     tf_meta_graph_tags\u001b[39m=\u001b[39;49mtf_meta_graph_tags,\n\u001b[1;32m    214\u001b[0m     tf_signature_def_key\u001b[39m=\u001b[39;49mtf_signature_def_key,\n\u001b[1;32m    215\u001b[0m     conda_env\u001b[39m=\u001b[39;49mconda_env,\n\u001b[1;32m    216\u001b[0m     code_paths\u001b[39m=\u001b[39;49mcode_paths,\n\u001b[1;32m    217\u001b[0m     registered_model_name\u001b[39m=\u001b[39;49mregistered_model_name,\n\u001b[1;32m    218\u001b[0m     signature\u001b[39m=\u001b[39;49msignature,\n\u001b[1;32m    219\u001b[0m     input_example\u001b[39m=\u001b[39;49minput_example,\n\u001b[1;32m    220\u001b[0m     await_registration_for\u001b[39m=\u001b[39;49mawait_registration_for,\n\u001b[1;32m    221\u001b[0m     pip_requirements\u001b[39m=\u001b[39;49mpip_requirements,\n\u001b[1;32m    222\u001b[0m     extra_pip_requirements\u001b[39m=\u001b[39;49mextra_pip_requirements,\n\u001b[1;32m    223\u001b[0m )\n",
      "File \u001b[0;32m~/miniconda3/envs/kws-dev-env/lib/python3.9/site-packages/mlflow/models/model.py:294\u001b[0m, in \u001b[0;36mModel.log\u001b[0;34m(cls, artifact_path, flavor, registered_model_name, await_registration_for, **kwargs)\u001b[0m\n\u001b[1;32m    292\u001b[0m run_id \u001b[39m=\u001b[39m mlflow\u001b[39m.\u001b[39mtracking\u001b[39m.\u001b[39mfluent\u001b[39m.\u001b[39m_get_or_start_run()\u001b[39m.\u001b[39minfo\u001b[39m.\u001b[39mrun_id\n\u001b[1;32m    293\u001b[0m mlflow_model \u001b[39m=\u001b[39m \u001b[39mcls\u001b[39m(artifact_path\u001b[39m=\u001b[39martifact_path, run_id\u001b[39m=\u001b[39mrun_id)\n\u001b[0;32m--> 294\u001b[0m flavor\u001b[39m.\u001b[39;49msave_model(path\u001b[39m=\u001b[39;49mlocal_path, mlflow_model\u001b[39m=\u001b[39;49mmlflow_model, \u001b[39m*\u001b[39;49m\u001b[39m*\u001b[39;49mkwargs)\n\u001b[1;32m    295\u001b[0m mlflow\u001b[39m.\u001b[39mtracking\u001b[39m.\u001b[39mfluent\u001b[39m.\u001b[39mlog_artifacts(local_path, artifact_path)\n\u001b[1;32m    296\u001b[0m \u001b[39mtry\u001b[39;00m:\n",
      "File \u001b[0;32m~/miniconda3/envs/kws-dev-env/lib/python3.9/site-packages/mlflow/utils/annotations.py:74\u001b[0m, in \u001b[0;36mkeyword_only.<locals>.wrapper\u001b[0;34m(*args, **kwargs)\u001b[0m\n\u001b[1;32m     72\u001b[0m \u001b[39mif\u001b[39;00m \u001b[39mlen\u001b[39m(args) \u001b[39m>\u001b[39m \u001b[39m0\u001b[39m:\n\u001b[1;32m     73\u001b[0m     \u001b[39mraise\u001b[39;00m \u001b[39mTypeError\u001b[39;00m(\u001b[39m\"\u001b[39m\u001b[39mMethod \u001b[39m\u001b[39m%s\u001b[39;00m\u001b[39m only takes keyword arguments.\u001b[39m\u001b[39m\"\u001b[39m \u001b[39m%\u001b[39m func\u001b[39m.\u001b[39m\u001b[39m__name__\u001b[39m)\n\u001b[0;32m---> 74\u001b[0m \u001b[39mreturn\u001b[39;00m func(\u001b[39m*\u001b[39;49m\u001b[39m*\u001b[39;49mkwargs)\n",
      "File \u001b[0;32m~/miniconda3/envs/kws-dev-env/lib/python3.9/site-packages/mlflow/tensorflow/__init__.py:293\u001b[0m, in \u001b[0;36msave_model\u001b[0;34m(tf_saved_model_dir, tf_meta_graph_tags, tf_signature_def_key, path, mlflow_model, conda_env, code_paths, signature, input_example, pip_requirements, extra_pip_requirements)\u001b[0m\n\u001b[1;32m    287\u001b[0m _validate_env_arguments(conda_env, pip_requirements, extra_pip_requirements)\n\u001b[1;32m    289\u001b[0m _logger\u001b[39m.\u001b[39minfo(\n\u001b[1;32m    290\u001b[0m     \u001b[39m\"\u001b[39m\u001b[39mValidating the specified TensorFlow model by attempting to load it in a new TensorFlow\u001b[39m\u001b[39m\"\u001b[39m\n\u001b[1;32m    291\u001b[0m     \u001b[39m\"\u001b[39m\u001b[39m graph...\u001b[39m\u001b[39m\"\u001b[39m\n\u001b[1;32m    292\u001b[0m )\n\u001b[0;32m--> 293\u001b[0m _validate_saved_model(\n\u001b[1;32m    294\u001b[0m     tf_saved_model_dir\u001b[39m=\u001b[39;49mtf_saved_model_dir,\n\u001b[1;32m    295\u001b[0m     tf_meta_graph_tags\u001b[39m=\u001b[39;49mtf_meta_graph_tags,\n\u001b[1;32m    296\u001b[0m     tf_signature_def_key\u001b[39m=\u001b[39;49mtf_signature_def_key,\n\u001b[1;32m    297\u001b[0m )\n\u001b[1;32m    298\u001b[0m _logger\u001b[39m.\u001b[39minfo(\u001b[39m\"\u001b[39m\u001b[39mValidation succeeded!\u001b[39m\u001b[39m\"\u001b[39m)\n\u001b[1;32m    300\u001b[0m _validate_and_prepare_target_save_path(path)\n",
      "File \u001b[0;32m~/miniconda3/envs/kws-dev-env/lib/python3.9/site-packages/mlflow/tensorflow/__init__.py:368\u001b[0m, in \u001b[0;36m_validate_saved_model\u001b[0;34m(tf_saved_model_dir, tf_meta_graph_tags, tf_signature_def_key)\u001b[0m\n\u001b[1;32m    363\u001b[0m \u001b[39mdef\u001b[39;00m \u001b[39m_validate_saved_model\u001b[39m(tf_saved_model_dir, tf_meta_graph_tags, tf_signature_def_key):\n\u001b[1;32m    364\u001b[0m     \u001b[39m\"\"\"\u001b[39;00m\n\u001b[1;32m    365\u001b[0m \u001b[39m    Validate the TensorFlow SavedModel by attempting to load it in a new TensorFlow graph.\u001b[39;00m\n\u001b[1;32m    366\u001b[0m \u001b[39m    If the loading process fails, any exceptions thrown by TensorFlow are propagated.\u001b[39;00m\n\u001b[1;32m    367\u001b[0m \u001b[39m    \"\"\"\u001b[39;00m\n\u001b[0;32m--> 368\u001b[0m     _load_tensorflow_saved_model(\n\u001b[1;32m    369\u001b[0m         tf_saved_model_dir\u001b[39m=\u001b[39;49mtf_saved_model_dir,\n\u001b[1;32m    370\u001b[0m         tf_meta_graph_tags\u001b[39m=\u001b[39;49mtf_meta_graph_tags,\n\u001b[1;32m    371\u001b[0m         tf_signature_def_key\u001b[39m=\u001b[39;49mtf_signature_def_key,\n\u001b[1;32m    372\u001b[0m     )\n",
      "File \u001b[0;32m~/miniconda3/envs/kws-dev-env/lib/python3.9/site-packages/mlflow/tensorflow/__init__.py:447\u001b[0m, in \u001b[0;36m_load_tensorflow_saved_model\u001b[0;34m(tf_saved_model_dir, tf_meta_graph_tags, tf_signature_def_key)\u001b[0m\n\u001b[1;32m    428\u001b[0m \u001b[39m\"\"\"\u001b[39;00m\n\u001b[1;32m    429\u001b[0m \u001b[39mLoad a specified TensorFlow model consisting of a TensorFlow metagraph and signature definition\u001b[39;00m\n\u001b[1;32m    430\u001b[0m \u001b[39mfrom a serialized TensorFlow ``SavedModel`` collection.\u001b[39;00m\n\u001b[0;32m   (...)\u001b[0m\n\u001b[1;32m    443\u001b[0m \u001b[39m:return: A callable graph (tensorflow.function) that takes inputs and returns inferences.\u001b[39;00m\n\u001b[1;32m    444\u001b[0m \u001b[39m\"\"\"\u001b[39;00m\n\u001b[1;32m    445\u001b[0m \u001b[39mimport\u001b[39;00m \u001b[39mtensorflow\u001b[39;00m\n\u001b[0;32m--> 447\u001b[0m loaded \u001b[39m=\u001b[39m tensorflow\u001b[39m.\u001b[39;49msaved_model\u001b[39m.\u001b[39;49mload(  \u001b[39m# pylint: disable=no-value-for-parameter\u001b[39;49;00m\n\u001b[1;32m    448\u001b[0m     tags\u001b[39m=\u001b[39;49mtf_meta_graph_tags, export_dir\u001b[39m=\u001b[39;49mtf_saved_model_dir\n\u001b[1;32m    449\u001b[0m )\n\u001b[1;32m    450\u001b[0m loaded_sig \u001b[39m=\u001b[39m loaded\u001b[39m.\u001b[39msignatures\n\u001b[1;32m    451\u001b[0m \u001b[39mif\u001b[39;00m tf_signature_def_key \u001b[39mnot\u001b[39;00m \u001b[39min\u001b[39;00m loaded_sig:\n",
      "File \u001b[0;32m~/miniconda3/envs/kws-dev-env/lib/python3.9/site-packages/tensorflow/python/saved_model/load.py:900\u001b[0m, in \u001b[0;36mload\u001b[0;34m(export_dir, tags, options)\u001b[0m\n\u001b[1;32m    809\u001b[0m \u001b[39m@tf_export\u001b[39m(\u001b[39m\"\u001b[39m\u001b[39msaved_model.load\u001b[39m\u001b[39m\"\u001b[39m, v1\u001b[39m=\u001b[39m[\u001b[39m\"\u001b[39m\u001b[39msaved_model.load_v2\u001b[39m\u001b[39m\"\u001b[39m])\n\u001b[1;32m    810\u001b[0m \u001b[39mdef\u001b[39;00m \u001b[39mload\u001b[39m(export_dir, tags\u001b[39m=\u001b[39m\u001b[39mNone\u001b[39;00m, options\u001b[39m=\u001b[39m\u001b[39mNone\u001b[39;00m):\n\u001b[1;32m    811\u001b[0m   \u001b[39m\"\"\"Load a SavedModel from `export_dir`.\u001b[39;00m\n\u001b[1;32m    812\u001b[0m \n\u001b[1;32m    813\u001b[0m \u001b[39m  Signatures associated with the SavedModel are available as functions:\u001b[39;00m\n\u001b[0;32m   (...)\u001b[0m\n\u001b[1;32m    898\u001b[0m \u001b[39m    ValueError: If `tags` don't match a MetaGraph in the SavedModel.\u001b[39;00m\n\u001b[1;32m    899\u001b[0m \u001b[39m  \"\"\"\u001b[39;00m\n\u001b[0;32m--> 900\u001b[0m   result \u001b[39m=\u001b[39m load_internal(export_dir, tags, options)[\u001b[39m\"\u001b[39m\u001b[39mroot\u001b[39m\u001b[39m\"\u001b[39m]\n\u001b[1;32m    901\u001b[0m   \u001b[39mreturn\u001b[39;00m result\n",
      "File \u001b[0;32m~/miniconda3/envs/kws-dev-env/lib/python3.9/site-packages/tensorflow/python/saved_model/load.py:913\u001b[0m, in \u001b[0;36mload_internal\u001b[0;34m(export_dir, tags, options, loader_cls, filters)\u001b[0m\n\u001b[1;32m    908\u001b[0m \u001b[39mif\u001b[39;00m tags \u001b[39mis\u001b[39;00m \u001b[39mnot\u001b[39;00m \u001b[39mNone\u001b[39;00m \u001b[39mand\u001b[39;00m \u001b[39mnot\u001b[39;00m \u001b[39misinstance\u001b[39m(tags, \u001b[39mset\u001b[39m):\n\u001b[1;32m    909\u001b[0m   \u001b[39m# Supports e.g. tags=SERVING and tags=[SERVING]. Sets aren't considered\u001b[39;00m\n\u001b[1;32m    910\u001b[0m   \u001b[39m# sequences for nest.flatten, so we put those through as-is.\u001b[39;00m\n\u001b[1;32m    911\u001b[0m   tags \u001b[39m=\u001b[39m nest\u001b[39m.\u001b[39mflatten(tags)\n\u001b[1;32m    912\u001b[0m saved_model_proto, debug_info \u001b[39m=\u001b[39m (\n\u001b[0;32m--> 913\u001b[0m     loader_impl\u001b[39m.\u001b[39;49mparse_saved_model_with_debug_info(export_dir))\n\u001b[1;32m    915\u001b[0m \u001b[39mif\u001b[39;00m (\u001b[39mlen\u001b[39m(saved_model_proto\u001b[39m.\u001b[39mmeta_graphs) \u001b[39m==\u001b[39m \u001b[39m1\u001b[39m \u001b[39mand\u001b[39;00m\n\u001b[1;32m    916\u001b[0m     saved_model_proto\u001b[39m.\u001b[39mmeta_graphs[\u001b[39m0\u001b[39m]\u001b[39m.\u001b[39mHasField(\u001b[39m\"\u001b[39m\u001b[39mobject_graph_def\u001b[39m\u001b[39m\"\u001b[39m)):\n\u001b[1;32m    917\u001b[0m   metrics\u001b[39m.\u001b[39mIncrementReadApi(_LOAD_V2_LABEL)\n",
      "File \u001b[0;32m~/miniconda3/envs/kws-dev-env/lib/python3.9/site-packages/tensorflow/python/saved_model/loader_impl.py:60\u001b[0m, in \u001b[0;36mparse_saved_model_with_debug_info\u001b[0;34m(export_dir)\u001b[0m\n\u001b[1;32m     47\u001b[0m \u001b[39mdef\u001b[39;00m \u001b[39mparse_saved_model_with_debug_info\u001b[39m(export_dir):\n\u001b[1;32m     48\u001b[0m   \u001b[39m\"\"\"Reads the savedmodel as well as the graph debug info.\u001b[39;00m\n\u001b[1;32m     49\u001b[0m \n\u001b[1;32m     50\u001b[0m \u001b[39m  Args:\u001b[39;00m\n\u001b[0;32m   (...)\u001b[0m\n\u001b[1;32m     58\u001b[0m \u001b[39m    parsed. Missing graph debug info file is fine.\u001b[39;00m\n\u001b[1;32m     59\u001b[0m \u001b[39m  \"\"\"\u001b[39;00m\n\u001b[0;32m---> 60\u001b[0m   saved_model \u001b[39m=\u001b[39m _parse_saved_model(export_dir)\n\u001b[1;32m     62\u001b[0m   debug_info_path \u001b[39m=\u001b[39m file_io\u001b[39m.\u001b[39mjoin(\n\u001b[1;32m     63\u001b[0m       saved_model_utils\u001b[39m.\u001b[39mget_debug_dir(export_dir),\n\u001b[1;32m     64\u001b[0m       constants\u001b[39m.\u001b[39mDEBUG_INFO_FILENAME_PB)\n\u001b[1;32m     65\u001b[0m   debug_info \u001b[39m=\u001b[39m graph_debug_info_pb2\u001b[39m.\u001b[39mGraphDebugInfo()\n",
      "File \u001b[0;32m~/miniconda3/envs/kws-dev-env/lib/python3.9/site-packages/tensorflow/python/saved_model/loader_impl.py:118\u001b[0m, in \u001b[0;36mparse_saved_model\u001b[0;34m(export_dir)\u001b[0m\n\u001b[1;32m    116\u001b[0m     \u001b[39mraise\u001b[39;00m \u001b[39mIOError\u001b[39;00m(\u001b[39mf\u001b[39m\u001b[39m\"\u001b[39m\u001b[39mCannot parse file \u001b[39m\u001b[39m{\u001b[39;00mpath_to_pbtxt\u001b[39m}\u001b[39;00m\u001b[39m: \u001b[39m\u001b[39m{\u001b[39;00m\u001b[39mstr\u001b[39m(e)\u001b[39m}\u001b[39;00m\u001b[39m.\u001b[39m\u001b[39m\"\u001b[39m)\n\u001b[1;32m    117\u001b[0m \u001b[39melse\u001b[39;00m:\n\u001b[0;32m--> 118\u001b[0m   \u001b[39mraise\u001b[39;00m \u001b[39mIOError\u001b[39;00m(\n\u001b[1;32m    119\u001b[0m       \u001b[39mf\u001b[39m\u001b[39m\"\u001b[39m\u001b[39mSavedModel file does not exist at: \u001b[39m\u001b[39m{\u001b[39;00mexport_dir\u001b[39m}\u001b[39;00m\u001b[39m{\u001b[39;00mos\u001b[39m.\u001b[39mpath\u001b[39m.\u001b[39msep\u001b[39m}\u001b[39;00m\u001b[39m\"\u001b[39m\n\u001b[1;32m    120\u001b[0m       \u001b[39mf\u001b[39m\u001b[39m\"\u001b[39m\u001b[39m{{\u001b[39;00m\u001b[39m{\u001b[39;00mconstants\u001b[39m.\u001b[39mSAVED_MODEL_FILENAME_PBTXT\u001b[39m}\u001b[39;00m\u001b[39m|\u001b[39m\u001b[39m\"\u001b[39m\n\u001b[1;32m    121\u001b[0m       \u001b[39mf\u001b[39m\u001b[39m\"\u001b[39m\u001b[39m{\u001b[39;00mconstants\u001b[39m.\u001b[39mSAVED_MODEL_FILENAME_PB\u001b[39m}\u001b[39;00m\u001b[39m}}\u001b[39;00m\u001b[39m\"\u001b[39m)\n",
      "\u001b[0;31mOSError\u001b[0m: SavedModel file does not exist at: /home/lebugcat/Desktop/FTech/Projects/KWS-ContinuousTraining/components/2_train/train_res/ds_tc_resnet/non-stream/{saved_model.pbtxt|saved_model.pb}"
     ]
    }
   ],
   "source": [
    "mlflow.tensorflow.log_model(\n",
    "        tf_saved_model_dir = \"/home/lebugcat/Desktop/FTech/Projects/KWS-ContinuousTraining/components/2_train/train_res/ds_tc_resnet/non_stream/\",\n",
    "        tf_meta_graph_tags = \"Blank\",\n",
    "        tf_signature_def_key = \"None\",\n",
    "        artifact_path = \"models/testmodel\")\n"
   ]
  },
  {
   "cell_type": "code",
   "execution_count": 8,
   "metadata": {},
   "outputs": [
    {
     "name": "stdout",
     "output_type": "stream",
     "text": [
      "/home/lebugcat/Desktop/FTech/Projects/KWS-ContinuousTraining/components/2_train\n"
     ]
    }
   ],
   "source": [
    "!pwd"
   ]
  }
 ],
 "metadata": {
  "kernelspec": {
   "display_name": "Python 3.9.12 ('kws-dev-env')",
   "language": "python",
   "name": "python3"
  },
  "language_info": {
   "codemirror_mode": {
    "name": "ipython",
    "version": 3
   },
   "file_extension": ".py",
   "mimetype": "text/x-python",
   "name": "python",
   "nbconvert_exporter": "python",
   "pygments_lexer": "ipython3",
   "version": "3.9.12"
  },
  "orig_nbformat": 4,
  "vscode": {
   "interpreter": {
    "hash": "7a192e72af163c78e5ecb2f39af3cac0b99b94b35df0ed122b563314cb768475"
   }
  }
 },
 "nbformat": 4,
 "nbformat_minor": 2
}
