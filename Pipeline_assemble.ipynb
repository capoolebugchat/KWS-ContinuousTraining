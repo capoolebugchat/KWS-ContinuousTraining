{
 "cells": [
  {
   "cell_type": "code",
   "execution_count": 22,
   "metadata": {},
   "outputs": [],
   "source": [
    "import kfp\n",
    "from kfp.components import load_component_from_file\n",
    "import kfp.dsl as dsl\n",
    "from kfp.v2.dsl import Model, Dataset, Artifact\n",
    "\n",
    "init_op = load_component_from_file(\"components/init_artifacts/component_SDKv2.yaml\")\n",
    "train_op = load_component_from_file(\"components/train/component_SDKv2.yaml\")\n",
    "\n",
    "@dsl.pipeline(\n",
    "    name=\"KWS-train-test-pipe\"\n",
    ")\n",
    "def pipeline(\n",
    "    config_file_url: str,\n",
    "    dataset_path: str,\n",
    "    model_S3_bucket: str,\n",
    "):\n",
    "    init_task = init_op(\n",
    "        config_path = config_file_url,\n",
    "        dataset_path = dataset_path,\n",
    "        bucket_name = model_S3_bucket,\n",
    "        version = \"v0.0.1\")\n",
    "    train_task = train_op(\n",
    "        dataset = init_task.outputs[\"train_dataset\"],\n",
    "        config = init_task.outputs[\"train_config\"]\n",
    "    )\n",
    "\n",
    "kfp.compiler.Compiler(mode=kfp.dsl.PipelineExecutionMode.V2_COMPATIBLE).compile(\n",
    "    pipeline_func=pipeline,\n",
    "    package_path='pipeline.yaml')\n"
   ]
  },
  {
   "cell_type": "code",
   "execution_count": 19,
   "metadata": {},
   "outputs": [
    {
     "name": "stdout",
     "output_type": "stream",
     "text": [
      "kfp                           1.8.13\n",
      "kfp-pipeline-spec             0.1.16\n",
      "kfp-server-api                1.8.4\n"
     ]
    }
   ],
   "source": [
    "!pip list | grep kfp"
   ]
  },
  {
   "cell_type": "code",
   "execution_count": 14,
   "metadata": {},
   "outputs": [],
   "source": [
    "from kfp.v2.dsl import Input, Output, OutputPath, Dataset, Model\n",
    "from kfp.v2.dsl import component\n",
    "@component(\n",
    "    output_component_file=\"component2.yaml\"\n",
    ")\n",
    "def train(\n",
    "    # Use Input[T] to get a metadata-rich handle to the input artifact of type `Dataset`.\n",
    "    dataset: Input[Dataset],\n",
    "    # Use Output[T] to get a metadata-rich handle to the output artifact of type `Dataset`.\n",
    "    model: Output[Model],\n",
    "    # An input parameter of type int.\n",
    "    num_steps: int,\n",
    "    # An output parameter of type str.\n",
    "    output_message_path: OutputPath(str),\n",
    "):\n",
    "    \"\"\"Dummy Training step.\"\"\"\n",
    "\n",
    "    with open(dataset.path, 'r') as input_file:\n",
    "        dataset_contents = input_file.read()\n",
    "\n",
    "    with open(model.path, 'w') as output_file:\n",
    "        for i in range(num_steps):\n",
    "            output_file.write(f'Step {i}\\n=====\\n')\n",
    "\n",
    "    # Model artifact has a `.metadata` dictionary\n",
    "    # to store arbitrary metadata for the output artifact.\n",
    "    model.metadata['accuracy'] = 0.9\n",
    "\n",
    "    with open(output_message_path, 'w') as output_file:\n",
    "        output_file.write('Model trained successfully.')\n",
    "\n",
    "# import kfp\n",
    "# kfp.components.create_component_from_func(\n",
    "#     func= train,\n",
    "#     output_component_file=\"test.yaml\"\n",
    "# )"
   ]
  },
  {
   "cell_type": "code",
   "execution_count": 8,
   "metadata": {},
   "outputs": [
    {
     "name": "stdout",
     "output_type": "stream",
     "text": [
      "Collecting kfp==2.0.0b3\n",
      "  Downloading kfp-2.0.0b3.tar.gz (334 kB)\n",
      "\u001b[2K     \u001b[90m━━━━━━━━━━━━━━━━━━━━━━━━━━━━━━━━━━━━━\u001b[0m \u001b[32m334.3/334.3 kB\u001b[0m \u001b[31m886.6 kB/s\u001b[0m eta \u001b[36m0:00:00\u001b[0ma \u001b[36m0:00:01\u001b[0m\n",
      "\u001b[?25h  Preparing metadata (setup.py) ... \u001b[?25ldone\n",
      "\u001b[?25hRequirement already satisfied: absl-py<2,>=0.9 in /home/lebugcat/miniconda3/envs/kws-dev-env/lib/python3.9/site-packages (from kfp==2.0.0b3) (1.2.0)\n",
      "Requirement already satisfied: click<9,>=7.1.2 in /home/lebugcat/miniconda3/envs/kws-dev-env/lib/python3.9/site-packages (from kfp==2.0.0b3) (8.1.3)\n",
      "Requirement already satisfied: docstring-parser<1,>=0.7.3 in /home/lebugcat/miniconda3/envs/kws-dev-env/lib/python3.9/site-packages (from kfp==2.0.0b3) (0.14.1)\n",
      "Requirement already satisfied: google-api-core!=2.0.*,!=2.1.*,!=2.2.*,!=2.3.0,<3.0.0dev,>=1.31.5 in /home/lebugcat/miniconda3/envs/kws-dev-env/lib/python3.9/site-packages (from kfp==2.0.0b3) (2.8.2)\n",
      "Requirement already satisfied: google-auth<3,>=1.6.1 in /home/lebugcat/miniconda3/envs/kws-dev-env/lib/python3.9/site-packages (from kfp==2.0.0b3) (1.34.0)\n",
      "Requirement already satisfied: google-cloud-storage<3,>=2.2.1 in /home/lebugcat/miniconda3/envs/kws-dev-env/lib/python3.9/site-packages (from kfp==2.0.0b3) (2.5.0)\n",
      "Requirement already satisfied: kfp-pipeline-spec<0.2.0,>=0.1.16 in /home/lebugcat/miniconda3/envs/kws-dev-env/lib/python3.9/site-packages (from kfp==2.0.0b3) (0.1.16)\n",
      "Requirement already satisfied: kfp-server-api<3.0.0,>=2.0.0a0 in /home/lebugcat/miniconda3/envs/kws-dev-env/lib/python3.9/site-packages (from kfp==2.0.0b3) (2.0.0a3)\n",
      "Requirement already satisfied: kubernetes<19,>=8.0.0 in /home/lebugcat/miniconda3/envs/kws-dev-env/lib/python3.9/site-packages (from kfp==2.0.0b3) (18.20.0)\n",
      "Requirement already satisfied: protobuf<4,>=3.13.0 in /home/lebugcat/miniconda3/envs/kws-dev-env/lib/python3.9/site-packages (from kfp==2.0.0b3) (3.19.4)\n",
      "Requirement already satisfied: PyYAML<6,>=5.3 in /home/lebugcat/miniconda3/envs/kws-dev-env/lib/python3.9/site-packages (from kfp==2.0.0b3) (5.4.1)\n",
      "Requirement already satisfied: requests-toolbelt<1,>=0.8.0 in /home/lebugcat/miniconda3/envs/kws-dev-env/lib/python3.9/site-packages (from kfp==2.0.0b3) (0.9.1)\n",
      "Requirement already satisfied: tabulate<1,>=0.8.6 in /home/lebugcat/miniconda3/envs/kws-dev-env/lib/python3.9/site-packages (from kfp==2.0.0b3) (0.8.10)\n",
      "Requirement already satisfied: cloudpickle<3,>=2.0.0 in /home/lebugcat/miniconda3/envs/kws-dev-env/lib/python3.9/site-packages (from kfp==2.0.0b3) (2.1.0)\n",
      "Requirement already satisfied: Deprecated<2,>=1.2.7 in /home/lebugcat/miniconda3/envs/kws-dev-env/lib/python3.9/site-packages (from kfp==2.0.0b3) (1.2.13)\n",
      "Requirement already satisfied: fire<1,>=0.3.1 in /home/lebugcat/miniconda3/envs/kws-dev-env/lib/python3.9/site-packages (from kfp==2.0.0b3) (0.4.0)\n",
      "Requirement already satisfied: jsonschema<4,>=3.0.1 in /home/lebugcat/miniconda3/envs/kws-dev-env/lib/python3.9/site-packages (from kfp==2.0.0b3) (3.2.0)\n",
      "Requirement already satisfied: strip-hints<1,>=0.1.8 in /home/lebugcat/miniconda3/envs/kws-dev-env/lib/python3.9/site-packages (from kfp==2.0.0b3) (0.1.10)\n",
      "Requirement already satisfied: uritemplate<4,>=3.0.1 in /home/lebugcat/miniconda3/envs/kws-dev-env/lib/python3.9/site-packages (from kfp==2.0.0b3) (3.0.1)\n",
      "Requirement already satisfied: typer<1.0,>=0.3.2 in /home/lebugcat/miniconda3/envs/kws-dev-env/lib/python3.9/site-packages (from kfp==2.0.0b3) (0.6.1)\n",
      "Requirement already satisfied: wrapt<2,>=1.10 in /home/lebugcat/miniconda3/envs/kws-dev-env/lib/python3.9/site-packages (from Deprecated<2,>=1.2.7->kfp==2.0.0b3) (1.14.1)\n",
      "Requirement already satisfied: six in /home/lebugcat/miniconda3/envs/kws-dev-env/lib/python3.9/site-packages (from fire<1,>=0.3.1->kfp==2.0.0b3) (1.16.0)\n",
      "Requirement already satisfied: termcolor in /home/lebugcat/miniconda3/envs/kws-dev-env/lib/python3.9/site-packages (from fire<1,>=0.3.1->kfp==2.0.0b3) (1.1.0)\n",
      "Requirement already satisfied: googleapis-common-protos<2.0dev,>=1.56.2 in /home/lebugcat/miniconda3/envs/kws-dev-env/lib/python3.9/site-packages (from google-api-core!=2.0.*,!=2.1.*,!=2.2.*,!=2.3.0,<3.0.0dev,>=1.31.5->kfp==2.0.0b3) (1.56.4)\n",
      "Requirement already satisfied: requests<3.0.0dev,>=2.18.0 in /home/lebugcat/miniconda3/envs/kws-dev-env/lib/python3.9/site-packages (from google-api-core!=2.0.*,!=2.1.*,!=2.2.*,!=2.3.0,<3.0.0dev,>=1.31.5->kfp==2.0.0b3) (2.28.1)\n",
      "Requirement already satisfied: setuptools>=40.3.0 in /home/lebugcat/miniconda3/envs/kws-dev-env/lib/python3.9/site-packages (from google-auth<3,>=1.6.1->kfp==2.0.0b3) (61.2.0)\n",
      "Requirement already satisfied: rsa<5,>=3.1.4 in /home/lebugcat/miniconda3/envs/kws-dev-env/lib/python3.9/site-packages (from google-auth<3,>=1.6.1->kfp==2.0.0b3) (4.9)\n",
      "Requirement already satisfied: pyasn1-modules>=0.2.1 in /home/lebugcat/miniconda3/envs/kws-dev-env/lib/python3.9/site-packages (from google-auth<3,>=1.6.1->kfp==2.0.0b3) (0.2.8)\n",
      "Requirement already satisfied: cachetools<5.0,>=2.0.0 in /home/lebugcat/miniconda3/envs/kws-dev-env/lib/python3.9/site-packages (from google-auth<3,>=1.6.1->kfp==2.0.0b3) (4.2.2)\n",
      "Requirement already satisfied: google-resumable-media>=2.3.2 in /home/lebugcat/miniconda3/envs/kws-dev-env/lib/python3.9/site-packages (from google-cloud-storage<3,>=2.2.1->kfp==2.0.0b3) (2.3.3)\n",
      "Requirement already satisfied: google-cloud-core<3.0dev,>=2.3.0 in /home/lebugcat/miniconda3/envs/kws-dev-env/lib/python3.9/site-packages (from google-cloud-storage<3,>=2.2.1->kfp==2.0.0b3) (2.3.2)\n",
      "Requirement already satisfied: pyrsistent>=0.14.0 in /home/lebugcat/miniconda3/envs/kws-dev-env/lib/python3.9/site-packages (from jsonschema<4,>=3.0.1->kfp==2.0.0b3) (0.18.1)\n",
      "Requirement already satisfied: attrs>=17.4.0 in /home/lebugcat/miniconda3/envs/kws-dev-env/lib/python3.9/site-packages (from jsonschema<4,>=3.0.1->kfp==2.0.0b3) (22.1.0)\n",
      "Requirement already satisfied: python-dateutil in /home/lebugcat/miniconda3/envs/kws-dev-env/lib/python3.9/site-packages (from kfp-server-api<3.0.0,>=2.0.0a0->kfp==2.0.0b3) (2.8.2)\n",
      "Requirement already satisfied: certifi in /home/lebugcat/miniconda3/envs/kws-dev-env/lib/python3.9/site-packages (from kfp-server-api<3.0.0,>=2.0.0a0->kfp==2.0.0b3) (2021.5.30)\n",
      "Requirement already satisfied: urllib3>=1.15 in /home/lebugcat/miniconda3/envs/kws-dev-env/lib/python3.9/site-packages (from kfp-server-api<3.0.0,>=2.0.0a0->kfp==2.0.0b3) (1.26.11)\n",
      "Requirement already satisfied: websocket-client!=0.40.0,!=0.41.*,!=0.42.*,>=0.32.0 in /home/lebugcat/miniconda3/envs/kws-dev-env/lib/python3.9/site-packages (from kubernetes<19,>=8.0.0->kfp==2.0.0b3) (1.3.3)\n",
      "Requirement already satisfied: requests-oauthlib in /home/lebugcat/miniconda3/envs/kws-dev-env/lib/python3.9/site-packages (from kubernetes<19,>=8.0.0->kfp==2.0.0b3) (1.3.1)\n",
      "Requirement already satisfied: wheel in /home/lebugcat/miniconda3/envs/kws-dev-env/lib/python3.9/site-packages (from strip-hints<1,>=0.1.8->kfp==2.0.0b3) (0.37.1)\n",
      "Requirement already satisfied: google-crc32c<2.0dev,>=1.0 in /home/lebugcat/miniconda3/envs/kws-dev-env/lib/python3.9/site-packages (from google-resumable-media>=2.3.2->google-cloud-storage<3,>=2.2.1->kfp==2.0.0b3) (1.3.0)\n",
      "Requirement already satisfied: pyasn1<0.5.0,>=0.4.6 in /home/lebugcat/miniconda3/envs/kws-dev-env/lib/python3.9/site-packages (from pyasn1-modules>=0.2.1->google-auth<3,>=1.6.1->kfp==2.0.0b3) (0.4.8)\n",
      "Requirement already satisfied: idna<4,>=2.5 in /home/lebugcat/miniconda3/envs/kws-dev-env/lib/python3.9/site-packages (from requests<3.0.0dev,>=2.18.0->google-api-core!=2.0.*,!=2.1.*,!=2.2.*,!=2.3.0,<3.0.0dev,>=1.31.5->kfp==2.0.0b3) (3.2)\n",
      "Requirement already satisfied: charset-normalizer<3,>=2 in /home/lebugcat/miniconda3/envs/kws-dev-env/lib/python3.9/site-packages (from requests<3.0.0dev,>=2.18.0->google-api-core!=2.0.*,!=2.1.*,!=2.2.*,!=2.3.0,<3.0.0dev,>=1.31.5->kfp==2.0.0b3) (2.1.0)\n",
      "Requirement already satisfied: oauthlib>=3.0.0 in /home/lebugcat/miniconda3/envs/kws-dev-env/lib/python3.9/site-packages (from requests-oauthlib->kubernetes<19,>=8.0.0->kfp==2.0.0b3) (3.2.0)\n",
      "Building wheels for collected packages: kfp\n",
      "  Building wheel for kfp (setup.py) ... \u001b[?25ldone\n",
      "\u001b[?25h  Created wheel for kfp: filename=kfp-2.0.0b3-py3-none-any.whl size=476367 sha256=4fbeda29bcf00536e4ba3b37ba39ff1b03b1dd742adc3e6fc8834f5d002b9d14\n",
      "  Stored in directory: /home/lebugcat/.cache/pip/wheels/65/fc/20/b9dc05d38381c134023598e898871f5de2047ad438e7f7f93f\n",
      "Successfully built kfp\n",
      "Installing collected packages: kfp\n",
      "  Attempting uninstall: kfp\n",
      "    Found existing installation: kfp 2.0.0b2\n",
      "    Uninstalling kfp-2.0.0b2:\n",
      "      Successfully uninstalled kfp-2.0.0b2\n",
      "Successfully installed kfp-2.0.0b3\n"
     ]
    }
   ],
   "source": [
    "!pip install kfp==2.0.0b3"
   ]
  }
 ],
 "metadata": {
  "interpreter": {
   "hash": "7a192e72af163c78e5ecb2f39af3cac0b99b94b35df0ed122b563314cb768475"
  },
  "kernelspec": {
   "display_name": "Python 3.9.12 ('kws-dev-env')",
   "language": "python",
   "name": "python3"
  },
  "language_info": {
   "codemirror_mode": {
    "name": "ipython",
    "version": 3
   },
   "file_extension": ".py",
   "mimetype": "text/x-python",
   "name": "python",
   "nbconvert_exporter": "python",
   "pygments_lexer": "ipython3",
   "version": "3.9.12"
  },
  "orig_nbformat": 4
 },
 "nbformat": 4,
 "nbformat_minor": 2
}
