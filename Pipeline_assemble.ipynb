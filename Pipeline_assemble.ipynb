{
 "cells": [
  {
   "cell_type": "code",
   "execution_count": 2,
   "metadata": {},
   "outputs": [
    {
     "name": "stderr",
     "output_type": "stream",
     "text": [
      "/home/lebugcat/miniconda3/envs/kws-dev-env/lib/python3.9/site-packages/kfp/compiler/compiler.py:79: UserWarning: V2_COMPATIBLE execution mode is at Beta quality. Some pipeline features may not work as expected.\n",
      "  warnings.warn('V2_COMPATIBLE execution mode is at Beta quality.'\n"
     ]
    },
    {
     "ename": "ValueError",
     "evalue": "@dsl.pipeline decorator name field is required in v2 compatible mode",
     "output_type": "error",
     "traceback": [
      "\u001b[0;31m---------------------------------------------------------------------------\u001b[0m",
      "\u001b[0;31mValueError\u001b[0m                                Traceback (most recent call last)",
      "\u001b[1;32m/home/lebugcat/Desktop/FTech/Projects/KWS-ContinuousTraining/Pipeline_assemble.ipynb Cell 1'\u001b[0m in \u001b[0;36m<cell line: 24>\u001b[0;34m()\u001b[0m\n\u001b[1;32m     <a href='vscode-notebook-cell:/home/lebugcat/Desktop/FTech/Projects/KWS-ContinuousTraining/Pipeline_assemble.ipynb#ch0000000?line=9'>10</a>\u001b[0m \u001b[39mdef\u001b[39;00m \u001b[39mpipeline\u001b[39m(\n\u001b[1;32m     <a href='vscode-notebook-cell:/home/lebugcat/Desktop/FTech/Projects/KWS-ContinuousTraining/Pipeline_assemble.ipynb#ch0000000?line=10'>11</a>\u001b[0m     yaml_file:\u001b[39mstr\u001b[39m,\n\u001b[1;32m     <a href='vscode-notebook-cell:/home/lebugcat/Desktop/FTech/Projects/KWS-ContinuousTraining/Pipeline_assemble.ipynb#ch0000000?line=11'>12</a>\u001b[0m     env_file:\u001b[39mstr\u001b[39m, \n\u001b[1;32m     <a href='vscode-notebook-cell:/home/lebugcat/Desktop/FTech/Projects/KWS-ContinuousTraining/Pipeline_assemble.ipynb#ch0000000?line=12'>13</a>\u001b[0m     data_path:\u001b[39mstr\u001b[39m, \n\u001b[1;32m     <a href='vscode-notebook-cell:/home/lebugcat/Desktop/FTech/Projects/KWS-ContinuousTraining/Pipeline_assemble.ipynb#ch0000000?line=13'>14</a>\u001b[0m     bucket_name:\u001b[39mstr\u001b[39m,\n\u001b[1;32m     <a href='vscode-notebook-cell:/home/lebugcat/Desktop/FTech/Projects/KWS-ContinuousTraining/Pipeline_assemble.ipynb#ch0000000?line=14'>15</a>\u001b[0m     remote_dir:\u001b[39mstr\u001b[39m ):\n\u001b[1;32m     <a href='vscode-notebook-cell:/home/lebugcat/Desktop/FTech/Projects/KWS-ContinuousTraining/Pipeline_assemble.ipynb#ch0000000?line=16'>17</a>\u001b[0m     train_task \u001b[39m=\u001b[39m train_op(\n\u001b[1;32m     <a href='vscode-notebook-cell:/home/lebugcat/Desktop/FTech/Projects/KWS-ContinuousTraining/Pipeline_assemble.ipynb#ch0000000?line=17'>18</a>\u001b[0m         yaml_file,\n\u001b[1;32m     <a href='vscode-notebook-cell:/home/lebugcat/Desktop/FTech/Projects/KWS-ContinuousTraining/Pipeline_assemble.ipynb#ch0000000?line=18'>19</a>\u001b[0m         env_file, \n\u001b[1;32m     <a href='vscode-notebook-cell:/home/lebugcat/Desktop/FTech/Projects/KWS-ContinuousTraining/Pipeline_assemble.ipynb#ch0000000?line=19'>20</a>\u001b[0m         data_path, \n\u001b[1;32m     <a href='vscode-notebook-cell:/home/lebugcat/Desktop/FTech/Projects/KWS-ContinuousTraining/Pipeline_assemble.ipynb#ch0000000?line=20'>21</a>\u001b[0m         bucket_name,\n\u001b[1;32m     <a href='vscode-notebook-cell:/home/lebugcat/Desktop/FTech/Projects/KWS-ContinuousTraining/Pipeline_assemble.ipynb#ch0000000?line=21'>22</a>\u001b[0m         remote_dir)\n\u001b[0;32m---> <a href='vscode-notebook-cell:/home/lebugcat/Desktop/FTech/Projects/KWS-ContinuousTraining/Pipeline_assemble.ipynb#ch0000000?line=23'>24</a>\u001b[0m kfp\u001b[39m.\u001b[39;49mcompiler\u001b[39m.\u001b[39;49mCompiler(mode\u001b[39m=\u001b[39;49mkfp\u001b[39m.\u001b[39;49mdsl\u001b[39m.\u001b[39;49mPipelineExecutionMode\u001b[39m.\u001b[39;49mV2_COMPATIBLE)\u001b[39m.\u001b[39;49mcompile(\n\u001b[1;32m     <a href='vscode-notebook-cell:/home/lebugcat/Desktop/FTech/Projects/KWS-ContinuousTraining/Pipeline_assemble.ipynb#ch0000000?line=24'>25</a>\u001b[0m     pipeline_func\u001b[39m=\u001b[39;49mpipeline,\n\u001b[1;32m     <a href='vscode-notebook-cell:/home/lebugcat/Desktop/FTech/Projects/KWS-ContinuousTraining/Pipeline_assemble.ipynb#ch0000000?line=25'>26</a>\u001b[0m     package_path\u001b[39m=\u001b[39;49m\u001b[39m'\u001b[39;49m\u001b[39mpipeline.yaml\u001b[39;49m\u001b[39m'\u001b[39;49m)\n",
      "File \u001b[0;32m~/miniconda3/envs/kws-dev-env/lib/python3.9/site-packages/kfp/compiler/compiler.py:1154\u001b[0m, in \u001b[0;36mCompiler.compile\u001b[0;34m(self, pipeline_func, package_path, type_check, pipeline_conf)\u001b[0m\n\u001b[1;32m   <a href='file:///home/lebugcat/miniconda3/envs/kws-dev-env/lib/python3.9/site-packages/kfp/compiler/compiler.py?line=1151'>1152</a>\u001b[0m pipeline_name \u001b[39m=\u001b[39m \u001b[39mgetattr\u001b[39m(pipeline_func, \u001b[39m'\u001b[39m\u001b[39m_component_human_name\u001b[39m\u001b[39m'\u001b[39m, \u001b[39m'\u001b[39m\u001b[39m'\u001b[39m)\n\u001b[1;32m   <a href='file:///home/lebugcat/miniconda3/envs/kws-dev-env/lib/python3.9/site-packages/kfp/compiler/compiler.py?line=1152'>1153</a>\u001b[0m \u001b[39mif\u001b[39;00m \u001b[39mnot\u001b[39;00m pipeline_name:\n\u001b[0;32m-> <a href='file:///home/lebugcat/miniconda3/envs/kws-dev-env/lib/python3.9/site-packages/kfp/compiler/compiler.py?line=1153'>1154</a>\u001b[0m     \u001b[39mraise\u001b[39;00m \u001b[39mValueError\u001b[39;00m(\n\u001b[1;32m   <a href='file:///home/lebugcat/miniconda3/envs/kws-dev-env/lib/python3.9/site-packages/kfp/compiler/compiler.py?line=1154'>1155</a>\u001b[0m         \u001b[39m'\u001b[39m\u001b[39m@dsl.pipeline decorator name field is required in v2 compatible mode\u001b[39m\u001b[39m'\u001b[39m\n\u001b[1;32m   <a href='file:///home/lebugcat/miniconda3/envs/kws-dev-env/lib/python3.9/site-packages/kfp/compiler/compiler.py?line=1155'>1156</a>\u001b[0m     )\n\u001b[1;32m   <a href='file:///home/lebugcat/miniconda3/envs/kws-dev-env/lib/python3.9/site-packages/kfp/compiler/compiler.py?line=1156'>1157</a>\u001b[0m \u001b[39m# pipeline names have one of the following formats:\u001b[39;00m\n\u001b[1;32m   <a href='file:///home/lebugcat/miniconda3/envs/kws-dev-env/lib/python3.9/site-packages/kfp/compiler/compiler.py?line=1157'>1158</a>\u001b[0m \u001b[39m# * pipeline/<name>\u001b[39;00m\n\u001b[1;32m   <a href='file:///home/lebugcat/miniconda3/envs/kws-dev-env/lib/python3.9/site-packages/kfp/compiler/compiler.py?line=1158'>1159</a>\u001b[0m \u001b[39m# * namespace/<ns>/pipeline/<name>\u001b[39;00m\n\u001b[1;32m   <a href='file:///home/lebugcat/miniconda3/envs/kws-dev-env/lib/python3.9/site-packages/kfp/compiler/compiler.py?line=1159'>1160</a>\u001b[0m \u001b[39m# when compiling, we will only have pipeline/<name>, but it will be overriden\u001b[39;00m\n\u001b[1;32m   <a href='file:///home/lebugcat/miniconda3/envs/kws-dev-env/lib/python3.9/site-packages/kfp/compiler/compiler.py?line=1160'>1161</a>\u001b[0m \u001b[39m# when uploading the pipeline to KFP API server.\u001b[39;00m\n\u001b[1;32m   <a href='file:///home/lebugcat/miniconda3/envs/kws-dev-env/lib/python3.9/site-packages/kfp/compiler/compiler.py?line=1161'>1162</a>\u001b[0m \u001b[39mself\u001b[39m\u001b[39m.\u001b[39m_pipeline_name_param \u001b[39m=\u001b[39m dsl\u001b[39m.\u001b[39mPipelineParam(\n\u001b[1;32m   <a href='file:///home/lebugcat/miniconda3/envs/kws-dev-env/lib/python3.9/site-packages/kfp/compiler/compiler.py?line=1162'>1163</a>\u001b[0m     name\u001b[39m=\u001b[39m\u001b[39m'\u001b[39m\u001b[39mpipeline-name\u001b[39m\u001b[39m'\u001b[39m, value\u001b[39m=\u001b[39m\u001b[39mf\u001b[39m\u001b[39m'\u001b[39m\u001b[39mpipeline/\u001b[39m\u001b[39m{\u001b[39;00mpipeline_name\u001b[39m}\u001b[39;00m\u001b[39m'\u001b[39m)\n",
      "\u001b[0;31mValueError\u001b[0m: @dsl.pipeline decorator name field is required in v2 compatible mode"
     ]
    }
   ],
   "source": [
    "import kfp\n",
    "from kfp.components import load_component_from_file\n",
    "import kfp.dsl as dsl\n",
    "\n",
    "train_op = load_component_from_file(\"components/train/component.yaml\")\n",
    "\n",
    "@dsl.pipeline(\n",
    "    name=\"KWS-train-test-pipe\"\n",
    ")\n",
    "def pipeline(\n",
    "    yaml_file:str,\n",
    "    env_file:str, \n",
    "    data_path:str, \n",
    "    bucket_name:str,\n",
    "    remote_dir:str ):\n",
    "    \n",
    "    train_task = train_op(\n",
    "        yaml_file,\n",
    "        env_file, \n",
    "        data_path, \n",
    "        bucket_name,\n",
    "        remote_dir)\n",
    "\n",
    "kfp.compiler.Compiler(mode=kfp.dsl.PipelineExecutionMode.V2_COMPATIBLE).compile(\n",
    "    pipeline_func=pipeline,\n",
    "    package_path='pipeline.yaml')\n"
   ]
  }
 ],
 "metadata": {
  "interpreter": {
   "hash": "7a192e72af163c78e5ecb2f39af3cac0b99b94b35df0ed122b563314cb768475"
  },
  "kernelspec": {
   "display_name": "Python 3.9.12 ('kws-dev-env')",
   "language": "python",
   "name": "python3"
  },
  "language_info": {
   "codemirror_mode": {
    "name": "ipython",
    "version": 3
   },
   "file_extension": ".py",
   "mimetype": "text/x-python",
   "name": "python",
   "nbconvert_exporter": "python",
   "pygments_lexer": "ipython3",
   "version": "3.9.12"
  },
  "orig_nbformat": 4
 },
 "nbformat": 4,
 "nbformat_minor": 2
}
